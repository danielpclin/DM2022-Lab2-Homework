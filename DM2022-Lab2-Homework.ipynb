{
 "cells": [
  {
   "cell_type": "markdown",
   "metadata": {},
   "source": [
    "### Student Information\n",
    "Name:\n",
    "\n",
    "Student ID:\n",
    "\n",
    "GitHub ID:\n",
    "\n",
    "Kaggle name:\n",
    "\n",
    "Kaggle private scoreboard snapshot:\n",
    "\n",
    "[Snapshot](img/pic0.png)"
   ]
  },
  {
   "cell_type": "markdown",
   "metadata": {},
   "source": [
    "---"
   ]
  },
  {
   "cell_type": "markdown",
   "metadata": {},
   "source": [
    "### Instructions"
   ]
  },
  {
   "cell_type": "markdown",
   "metadata": {},
   "source": [
    "1. First: __This part is worth 30% of your grade.__ Do the **take home** exercises in the [DM2022-Lab2-master Repo](https://github.com/keziatamus/DM2022-Lab2-Master). You may need to copy some cells from the Lab notebook to this notebook. \n",
    "\n",
    "\n",
    "2. Second: __This part is worth 30% of your grade.__ Participate in the in-class [Kaggle Competition](https://www.kaggle.com/competitions/dm2022-isa5810-lab2-homework) regarding Emotion Recognition on Twitter by this link https://www.kaggle.com/t/2b0d14a829f340bc88d2660dc602d4bd. The scoring will be given according to your place in the Private Leaderboard ranking: \n",
    "    - **Bottom 40%**: Get 20% of the 30% available for this section.\n",
    "\n",
    "    - **Top 41% - 100%**: Get (60-x)/6 + 20 points, where x is your ranking in the leaderboard (ie. If you rank 3rd your score will be (60-3)/6 + 20 = 29.5% out of 30%)   \n",
    "    Submit your last submission __BEFORE the deadline (Nov. 22th 11:59 pm, Tuesday)__. Make sure to take a screenshot of your position at the end of the competition and store it as '''pic0.png''' under the **img** folder of this repository and rerun the cell **Student Information**.\n",
    "    \n",
    "\n",
    "3. Third: __This part is worth 30% of your grade.__ A report of your work developping the model for the competition (You can use code and comment it). This report should include what your preprocessing steps, the feature engineering steps and an explanation of your model. You can also mention different things you tried and insights you gained. \n",
    "\n",
    "\n",
    "4. Fourth: __This part is worth 10% of your grade.__ It's hard for us to follow if your code is messy :'(, so please **tidy up your notebook** and **add minimal comments where needed**.\n",
    "\n",
    "\n",
    "Upload your files to your repository then submit the link to it on the corresponding e-learn assignment.\n",
    "\n",
    "Make sure to commit and save your changes to your repository __BEFORE the deadline (Nov. 25th 11:59 pm, Friday)__. "
   ]
  },
  {
   "cell_type": "code",
   "execution_count": 2,
   "metadata": {},
   "outputs": [],
   "source": [
    "### Begin Assignment Here\n",
    "import pandas as pd\n",
    "\n",
    "## load pickle files\n",
    "train_df = pd.read_pickle(\"train_df.pkl\")\n",
    "test_df = pd.read_pickle(\"test_df.pkl\")"
   ]
  },
  {
   "cell_type": "markdown",
   "source": [
    "---\n",
    "### ** >>> Exercise 1 (Take home): **\n",
    "Plot word frequency for Top 30 words in both train and test dataset. (Hint: refer to DM lab 1)\n"
   ],
   "metadata": {
    "collapsed": false
   }
  },
  {
   "cell_type": "code",
   "execution_count": 1,
   "outputs": [
    {
     "ename": "NameError",
     "evalue": "name 'train_df' is not defined",
     "output_type": "error",
     "traceback": [
      "\u001B[1;31m---------------------------------------------------------------------------\u001B[0m",
      "\u001B[1;31mNameError\u001B[0m                                 Traceback (most recent call last)",
      "Cell \u001B[1;32mIn [1], line 7\u001B[0m\n\u001B[0;32m      5\u001B[0m get_ipython()\u001B[38;5;241m.\u001B[39mrun_line_magic(\u001B[38;5;124m'\u001B[39m\u001B[38;5;124mmatplotlib\u001B[39m\u001B[38;5;124m'\u001B[39m, \u001B[38;5;124m'\u001B[39m\u001B[38;5;124minline\u001B[39m\u001B[38;5;124m'\u001B[39m)\n\u001B[0;32m      6\u001B[0m count_vect \u001B[38;5;241m=\u001B[39m CountVectorizer()\n\u001B[1;32m----> 7\u001B[0m train_counts \u001B[38;5;241m=\u001B[39m count_vect\u001B[38;5;241m.\u001B[39mfit_transform(\u001B[43mtrain_df\u001B[49m\u001B[38;5;241m.\u001B[39mtext) \u001B[38;5;66;03m# learn the vocabulary and return document-term matrix\u001B[39;00m\n\u001B[0;32m      8\u001B[0m train_counts \u001B[38;5;241m=\u001B[39m np\u001B[38;5;241m.\u001B[39masarray(train_counts\u001B[38;5;241m.\u001B[39msum(axis\u001B[38;5;241m=\u001B[39m\u001B[38;5;241m0\u001B[39m))\u001B[38;5;241m.\u001B[39mflatten() \u001B[38;5;66;03m# count term frequency\u001B[39;00m\n\u001B[0;32m      9\u001B[0m train_ind \u001B[38;5;241m=\u001B[39m np\u001B[38;5;241m.\u001B[39margsort(train_counts)[::\u001B[38;5;241m-\u001B[39m\u001B[38;5;241m1\u001B[39m][:\u001B[38;5;241m30\u001B[39m] \u001B[38;5;66;03m# get sorted index\u001B[39;00m\n",
      "\u001B[1;31mNameError\u001B[0m: name 'train_df' is not defined"
     ]
    }
   ],
   "source": [
    "# Answer here\n",
    "from sklearn.feature_extraction.text import CountVectorizer\n",
    "import numpy as np\n",
    "import matplotlib.pyplot as plt\n",
    "%matplotlib inline\n",
    "count_vect = CountVectorizer()\n",
    "train_counts = count_vect.fit_transform(train_df.text) # learn the vocabulary and return document-term matrix\n",
    "train_counts = np.asarray(train_counts.sum(axis=0)).flatten() # count term frequency\n",
    "train_ind = np.argsort(train_counts)[::-1][:30] # get sorted index\n",
    "fig1 = plt.figure(figsize=(10, 6))\n",
    "plt.xticks(rotation='vertical')\n",
    "plt.bar(x=count_vect.get_feature_names_out()[train_ind], height=train_counts[train_ind])\n",
    "\n",
    "test_counts = count_vect.transform(test_df.text)  #learn the vocabulary and return document-term matrix\n",
    "test_counts = np.asarray(test_counts.sum(axis=0)).flatten() # count term frequency\n",
    "test_ind = np.argsort(test_counts)[::-1][:30] # get sorted index\n",
    "fig2 = plt.figure(figsize=(10, 6))\n",
    "plt.xticks(rotation='vertical')\n",
    "plt.bar(x=count_vect.get_feature_names_out()[test_ind], height=test_counts[test_ind])\n"
   ],
   "metadata": {
    "collapsed": false
   }
  },
  {
   "cell_type": "markdown",
   "source": [
    "---\n",
    "### ** >>> Exercise 2 (Take home): **\n",
    "Generate an embedding using the TF-IDF vectorizer instead of th BOW one with 1000 features and show the feature names for features [100:110]."
   ],
   "metadata": {
    "collapsed": false
   }
  },
  {
   "cell_type": "code",
   "execution_count": null,
   "outputs": [],
   "source": [
    "# Answer here\n",
    "from sklearn.feature_extraction.text import TfidfVectorizer\n",
    "import nltk\n",
    "\n",
    "tfidf_vect = TfidfVectorizer(max_features=1000, tokenizer=nltk.word_tokenize) # use TFIDF vectorizer\n",
    "train_tfidf = tfidf_vect.fit_transform(train_df['text']) # learn the vocabulary and return tf-idf\n",
    "\n",
    "tfidf_feature_names = tfidf_vect.get_feature_names_out() # get feature names\n",
    "tfidf_feature_names[100:110] # show feature names"
   ],
   "metadata": {
    "collapsed": false
   }
  },
  {
   "cell_type": "markdown",
   "source": [
    "---\n",
    "### ** >>> Exercise 3 (Take home): **\n",
    "Can you interpret the results above? What do they mean?"
   ],
   "metadata": {
    "collapsed": false
   }
  },
  {
   "cell_type": "code",
   "execution_count": null,
   "outputs": [],
   "source": [
    "# Answer here\n"
   ],
   "metadata": {
    "collapsed": false
   }
  },
  {
   "cell_type": "markdown",
   "source": [
    "---\n",
    "### ** >>> Exercise 4 (Take home): **\n",
    "Build a model using a ```Naive Bayes``` model and train it. What are the testing results?\n",
    "\n",
    "*Reference*: https://scikit-learn.org/stable/modules/generated/sklearn.naive_bayes.MultinomialNB.html"
   ],
   "metadata": {
    "collapsed": false
   }
  },
  {
   "cell_type": "code",
   "execution_count": null,
   "outputs": [],
   "source": [
    "# Answer here\n"
   ],
   "metadata": {
    "collapsed": false
   }
  },
  {
   "cell_type": "markdown",
   "source": [
    "---\n",
    "### ** >>> Exercise 5 (Take home): **\n",
    "\n",
    "How do the results from the Naive Bayes model and the Decision Tree model compare? How do you interpret these differences? Use the theoretical background covered in class to try and explain these differences."
   ],
   "metadata": {
    "collapsed": false
   }
  },
  {
   "cell_type": "code",
   "execution_count": null,
   "outputs": [],
   "source": [
    "# Answer here\n"
   ],
   "metadata": {
    "collapsed": false
   }
  },
  {
   "cell_type": "markdown",
   "source": [
    "---\n",
    "### ** >>> Exercise 6 (Take home): **\n",
    "\n",
    "Plot the Training and Validation Accuracy and Loss (different plots), just like the images below (Note: the pictures below are an example from a different model). How to interpret the graphs you got? How are they related to the concept of overfitting/underfitting covered in class?\n",
    "<table><tr>\n",
    "    <td><img src=\"pics/pic3.png\" style=\"width: 300px;\"/> </td>\n",
    "    <td><img src=\"pics/pic4.png\" style=\"width: 300px;\"/> </td>\n",
    "</tr></table>"
   ],
   "metadata": {
    "collapsed": false
   }
  },
  {
   "cell_type": "code",
   "execution_count": null,
   "outputs": [],
   "source": [
    "# Answer here\n",
    "training_log = pd.read_csv(\"logs/training_log.csv\")\n",
    "\n",
    "plt.figure()\n",
    "plt.plot(training_log.epoch, training_log.accuracy)\n",
    "plt.plot(training_log.epoch, training_log.val_accuracy)\n",
    "plt.legend([\"Train accuracy\", \"Val accuracy\"])\n",
    "\n",
    "\n",
    "plt.figure()\n",
    "plt.plot(training_log.epoch, training_log.loss)\n",
    "plt.plot(training_log.epoch, training_log.val_loss)\n",
    "plt.legend([\"Train loss\", \"Val loss\"])"
   ],
   "metadata": {
    "collapsed": false
   }
  },
  {
   "cell_type": "markdown",
   "source": [
    "---\n",
    "### ** >>> Exercise 7 (Take home): **\n",
    "\n",
    "Now, we have the word vectors, but our input data is a sequence of words (or say sentence).\n",
    "How can we utilize these \"word\" vectors to represent the sentence data and train our model?\n"
   ],
   "metadata": {
    "collapsed": false
   }
  },
  {
   "cell_type": "code",
   "execution_count": null,
   "outputs": [],
   "source": [
    "# Answer here\n"
   ],
   "metadata": {
    "collapsed": false
   }
  },
  {
   "cell_type": "markdown",
   "source": [
    "---\n",
    "### ** >>> Exercise 8 (Take home): **\n",
    "\n",
    "Generate a t-SNE visualization to show the 15 words most related to the words \"angry\", \"happy\", \"sad\", \"fear\" (60 words total).\n"
   ],
   "metadata": {
    "collapsed": false
   }
  },
  {
   "cell_type": "code",
   "execution_count": 2,
   "outputs": [],
   "source": [
    "# Answer here\n"
   ],
   "metadata": {
    "collapsed": false
   }
  },
  {
   "cell_type": "code",
   "execution_count": null,
   "outputs": [],
   "source": [],
   "metadata": {
    "collapsed": false
   }
  }
 ],
 "metadata": {
  "kernelspec": {
   "display_name": "Python 3 (ipykernel)",
   "language": "python",
   "name": "python3"
  },
  "language_info": {
   "codemirror_mode": {
    "name": "ipython",
    "version": 3
   },
   "file_extension": ".py",
   "mimetype": "text/x-python",
   "name": "python",
   "nbconvert_exporter": "python",
   "pygments_lexer": "ipython3",
   "version": "3.9.6"
  },
  "varInspector": {
   "cols": {
    "lenName": 16,
    "lenType": 16,
    "lenVar": 40
   },
   "kernels_config": {
    "python": {
     "delete_cmd_postfix": "",
     "delete_cmd_prefix": "del ",
     "library": "var_list.py",
     "varRefreshCmd": "print(var_dic_list())"
    },
    "r": {
     "delete_cmd_postfix": ") ",
     "delete_cmd_prefix": "rm(",
     "library": "var_list.r",
     "varRefreshCmd": "cat(var_dic_list()) "
    }
   },
   "types_to_exclude": [
    "module",
    "function",
    "builtin_function_or_method",
    "instance",
    "_Feature"
   ],
   "window_display": false
  }
 },
 "nbformat": 4,
 "nbformat_minor": 2
}
